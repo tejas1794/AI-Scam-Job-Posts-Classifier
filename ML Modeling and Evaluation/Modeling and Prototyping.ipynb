{
 "cells": [
  {
   "cell_type": "markdown",
   "metadata": {},
   "source": [
    "# AI Algoithms - Final Project\n",
    "By: Tejas Vyas\n",
    "\n",
    "## Scam job classification using NLP and Machine Learning"
   ]
  },
  {
   "cell_type": "markdown",
   "metadata": {},
   "source": [
    "**Feature Engineering and Exploratory data analysis (EDA) available in the Data Acquisition and Understanding folder**\n",
    "\n",
    "## Loading and pre-processing\n",
    "Let's start by loading all necessary libraries"
   ]
  },
  {
   "cell_type": "code",
   "execution_count": 1,
   "metadata": {},
   "outputs": [],
   "source": [
    "import numpy as np \n",
    "import pandas as pd \n",
    "import matplotlib.pyplot as plt \n",
    "import seaborn as sns\n",
    "from matplotlib.colors import ListedColormap\n",
    "from sklearn.model_selection import train_test_split \n",
    "from sklearn.metrics import confusion_matrix, plot_confusion_matrix, accuracy_score \n",
    "from sklearn.model_selection import GridSearchCV, cross_val_score, RepeatedKFold, RepeatedStratifiedKFold\n",
    "from sklearn.decomposition import PCA\n",
    "from sklearn.preprocessing import StandardScaler\n",
    "from sklearn.linear_model import LogisticRegression\n",
    "from sklearn import tree, svm\n",
    "from sklearn.ensemble import RandomForestClassifier\n",
    "from pandas.plotting import scatter_matrix\n",
    "#pip install imbalanced-learn\n",
    "from imblearn.over_sampling import SMOTE\n",
    "from sklearn.kernel_approximation import RBFSampler\n",
    "from sklearn.linear_model import SGDClassifier"
   ]
  },
  {
   "cell_type": "markdown",
   "metadata": {},
   "source": [
    "Our data is contained in fake_job_postings.csv, reading and verifying its loaded properly"
   ]
  },
  {
   "cell_type": "code",
   "execution_count": 2,
   "metadata": {
    "scrolled": false
   },
   "outputs": [
    {
     "name": "stdout",
     "output_type": "stream",
     "text": [
      "Data shape -  (17880, 18)\n"
     ]
    },
    {
     "data": {
      "text/html": [
       "<div>\n",
       "<style scoped>\n",
       "    .dataframe tbody tr th:only-of-type {\n",
       "        vertical-align: middle;\n",
       "    }\n",
       "\n",
       "    .dataframe tbody tr th {\n",
       "        vertical-align: top;\n",
       "    }\n",
       "\n",
       "    .dataframe thead th {\n",
       "        text-align: right;\n",
       "    }\n",
       "</style>\n",
       "<table border=\"1\" class=\"dataframe\">\n",
       "  <thead>\n",
       "    <tr style=\"text-align: right;\">\n",
       "      <th></th>\n",
       "      <th>job_id</th>\n",
       "      <th>title</th>\n",
       "      <th>location</th>\n",
       "      <th>department</th>\n",
       "      <th>salary_range</th>\n",
       "      <th>company_profile</th>\n",
       "      <th>description</th>\n",
       "      <th>requirements</th>\n",
       "      <th>benefits</th>\n",
       "      <th>telecommuting</th>\n",
       "      <th>has_company_logo</th>\n",
       "      <th>has_questions</th>\n",
       "      <th>employment_type</th>\n",
       "      <th>required_experience</th>\n",
       "      <th>required_education</th>\n",
       "      <th>industry</th>\n",
       "      <th>function</th>\n",
       "      <th>fraudulent</th>\n",
       "    </tr>\n",
       "  </thead>\n",
       "  <tbody>\n",
       "    <tr>\n",
       "      <th>0</th>\n",
       "      <td>1</td>\n",
       "      <td>Marketing Intern</td>\n",
       "      <td>US, NY, New York</td>\n",
       "      <td>Marketing</td>\n",
       "      <td>NaN</td>\n",
       "      <td>We're Food52, and we've created a groundbreaki...</td>\n",
       "      <td>Food52, a fast-growing, James Beard Award-winn...</td>\n",
       "      <td>Experience with content management systems a m...</td>\n",
       "      <td>NaN</td>\n",
       "      <td>0</td>\n",
       "      <td>1</td>\n",
       "      <td>0</td>\n",
       "      <td>Other</td>\n",
       "      <td>Internship</td>\n",
       "      <td>NaN</td>\n",
       "      <td>NaN</td>\n",
       "      <td>Marketing</td>\n",
       "      <td>0</td>\n",
       "    </tr>\n",
       "    <tr>\n",
       "      <th>1</th>\n",
       "      <td>2</td>\n",
       "      <td>Customer Service - Cloud Video Production</td>\n",
       "      <td>NZ, , Auckland</td>\n",
       "      <td>Success</td>\n",
       "      <td>NaN</td>\n",
       "      <td>90 Seconds, the worlds Cloud Video Production ...</td>\n",
       "      <td>Organised - Focused - Vibrant - Awesome!Do you...</td>\n",
       "      <td>What we expect from you:Your key responsibilit...</td>\n",
       "      <td>What you will get from usThrough being part of...</td>\n",
       "      <td>0</td>\n",
       "      <td>1</td>\n",
       "      <td>0</td>\n",
       "      <td>Full-time</td>\n",
       "      <td>Not Applicable</td>\n",
       "      <td>NaN</td>\n",
       "      <td>Marketing and Advertising</td>\n",
       "      <td>Customer Service</td>\n",
       "      <td>0</td>\n",
       "    </tr>\n",
       "    <tr>\n",
       "      <th>2</th>\n",
       "      <td>3</td>\n",
       "      <td>Commissioning Machinery Assistant (CMA)</td>\n",
       "      <td>US, IA, Wever</td>\n",
       "      <td>NaN</td>\n",
       "      <td>NaN</td>\n",
       "      <td>Valor Services provides Workforce Solutions th...</td>\n",
       "      <td>Our client, located in Houston, is actively se...</td>\n",
       "      <td>Implement pre-commissioning and commissioning ...</td>\n",
       "      <td>NaN</td>\n",
       "      <td>0</td>\n",
       "      <td>1</td>\n",
       "      <td>0</td>\n",
       "      <td>NaN</td>\n",
       "      <td>NaN</td>\n",
       "      <td>NaN</td>\n",
       "      <td>NaN</td>\n",
       "      <td>NaN</td>\n",
       "      <td>0</td>\n",
       "    </tr>\n",
       "  </tbody>\n",
       "</table>\n",
       "</div>"
      ],
      "text/plain": [
       "   job_id                                      title          location  \\\n",
       "0       1                           Marketing Intern  US, NY, New York   \n",
       "1       2  Customer Service - Cloud Video Production    NZ, , Auckland   \n",
       "2       3    Commissioning Machinery Assistant (CMA)     US, IA, Wever   \n",
       "\n",
       "  department salary_range                                    company_profile  \\\n",
       "0  Marketing          NaN  We're Food52, and we've created a groundbreaki...   \n",
       "1    Success          NaN  90 Seconds, the worlds Cloud Video Production ...   \n",
       "2        NaN          NaN  Valor Services provides Workforce Solutions th...   \n",
       "\n",
       "                                         description  \\\n",
       "0  Food52, a fast-growing, James Beard Award-winn...   \n",
       "1  Organised - Focused - Vibrant - Awesome!Do you...   \n",
       "2  Our client, located in Houston, is actively se...   \n",
       "\n",
       "                                        requirements  \\\n",
       "0  Experience with content management systems a m...   \n",
       "1  What we expect from you:Your key responsibilit...   \n",
       "2  Implement pre-commissioning and commissioning ...   \n",
       "\n",
       "                                            benefits  telecommuting  \\\n",
       "0                                                NaN              0   \n",
       "1  What you will get from usThrough being part of...              0   \n",
       "2                                                NaN              0   \n",
       "\n",
       "   has_company_logo  has_questions employment_type required_experience  \\\n",
       "0                 1              0           Other          Internship   \n",
       "1                 1              0       Full-time      Not Applicable   \n",
       "2                 1              0             NaN                 NaN   \n",
       "\n",
       "  required_education                   industry          function  fraudulent  \n",
       "0                NaN                        NaN         Marketing           0  \n",
       "1                NaN  Marketing and Advertising  Customer Service           0  \n",
       "2                NaN                        NaN               NaN           0  "
      ]
     },
     "execution_count": 2,
     "metadata": {},
     "output_type": "execute_result"
    }
   ],
   "source": [
    "# fake_job_postings.csv is our data file - loading it into pandas an verifying its loaded correctly\n",
    "df = pd.read_csv('fake_job_postings.csv')\n",
    "print(\"Data shape - \",df.shape)\n",
    "df.head(3)"
   ]
  },
  {
   "cell_type": "markdown",
   "metadata": {},
   "source": [
    "We need to check if the data contains any null values so we can clean it up"
   ]
  },
  {
   "cell_type": "code",
   "execution_count": 3,
   "metadata": {},
   "outputs": [],
   "source": [
    "df = df.drop(columns=['job_id'])"
   ]
  },
  {
   "cell_type": "code",
   "execution_count": 4,
   "metadata": {
    "scrolled": true
   },
   "outputs": [
    {
     "data": {
      "text/html": [
       "<div>\n",
       "<style scoped>\n",
       "    .dataframe tbody tr th:only-of-type {\n",
       "        vertical-align: middle;\n",
       "    }\n",
       "\n",
       "    .dataframe tbody tr th {\n",
       "        vertical-align: top;\n",
       "    }\n",
       "\n",
       "    .dataframe thead th {\n",
       "        text-align: right;\n",
       "    }\n",
       "</style>\n",
       "<table border=\"1\" class=\"dataframe\">\n",
       "  <thead>\n",
       "    <tr style=\"text-align: right;\">\n",
       "      <th></th>\n",
       "      <th>title</th>\n",
       "      <th>company_profile</th>\n",
       "      <th>description</th>\n",
       "      <th>requirements</th>\n",
       "      <th>benefits</th>\n",
       "      <th>fraudulent</th>\n",
       "    </tr>\n",
       "  </thead>\n",
       "  <tbody>\n",
       "    <tr>\n",
       "      <th>0</th>\n",
       "      <td>Marketing Intern</td>\n",
       "      <td>We're Food52, and we've created a groundbreaki...</td>\n",
       "      <td>Food52, a fast-growing, James Beard Award-winn...</td>\n",
       "      <td>Experience with content management systems a m...</td>\n",
       "      <td></td>\n",
       "      <td>0</td>\n",
       "    </tr>\n",
       "    <tr>\n",
       "      <th>1</th>\n",
       "      <td>Customer Service - Cloud Video Production</td>\n",
       "      <td>90 Seconds, the worlds Cloud Video Production ...</td>\n",
       "      <td>Organised - Focused - Vibrant - Awesome!Do you...</td>\n",
       "      <td>What we expect from you:Your key responsibilit...</td>\n",
       "      <td>What you will get from usThrough being part of...</td>\n",
       "      <td>0</td>\n",
       "    </tr>\n",
       "    <tr>\n",
       "      <th>2</th>\n",
       "      <td>Commissioning Machinery Assistant (CMA)</td>\n",
       "      <td>Valor Services provides Workforce Solutions th...</td>\n",
       "      <td>Our client, located in Houston, is actively se...</td>\n",
       "      <td>Implement pre-commissioning and commissioning ...</td>\n",
       "      <td></td>\n",
       "      <td>0</td>\n",
       "    </tr>\n",
       "    <tr>\n",
       "      <th>3</th>\n",
       "      <td>Account Executive - Washington DC</td>\n",
       "      <td>Our passion for improving quality of life thro...</td>\n",
       "      <td>THE COMPANY: ESRI – Environmental Systems Rese...</td>\n",
       "      <td>EDUCATION: Bachelor’s or Master’s in GIS, busi...</td>\n",
       "      <td>Our culture is anything but corporate—we have ...</td>\n",
       "      <td>0</td>\n",
       "    </tr>\n",
       "    <tr>\n",
       "      <th>4</th>\n",
       "      <td>Bill Review Manager</td>\n",
       "      <td>SpotSource Solutions LLC is a Global Human Cap...</td>\n",
       "      <td>JOB TITLE: Itemization Review ManagerLOCATION:...</td>\n",
       "      <td>QUALIFICATIONS:RN license in the State of Texa...</td>\n",
       "      <td>Full Benefits Offered</td>\n",
       "      <td>0</td>\n",
       "    </tr>\n",
       "  </tbody>\n",
       "</table>\n",
       "</div>"
      ],
      "text/plain": [
       "                                       title  \\\n",
       "0                           Marketing Intern   \n",
       "1  Customer Service - Cloud Video Production   \n",
       "2    Commissioning Machinery Assistant (CMA)   \n",
       "3          Account Executive - Washington DC   \n",
       "4                        Bill Review Manager   \n",
       "\n",
       "                                     company_profile  \\\n",
       "0  We're Food52, and we've created a groundbreaki...   \n",
       "1  90 Seconds, the worlds Cloud Video Production ...   \n",
       "2  Valor Services provides Workforce Solutions th...   \n",
       "3  Our passion for improving quality of life thro...   \n",
       "4  SpotSource Solutions LLC is a Global Human Cap...   \n",
       "\n",
       "                                         description  \\\n",
       "0  Food52, a fast-growing, James Beard Award-winn...   \n",
       "1  Organised - Focused - Vibrant - Awesome!Do you...   \n",
       "2  Our client, located in Houston, is actively se...   \n",
       "3  THE COMPANY: ESRI – Environmental Systems Rese...   \n",
       "4  JOB TITLE: Itemization Review ManagerLOCATION:...   \n",
       "\n",
       "                                        requirements  \\\n",
       "0  Experience with content management systems a m...   \n",
       "1  What we expect from you:Your key responsibilit...   \n",
       "2  Implement pre-commissioning and commissioning ...   \n",
       "3  EDUCATION: Bachelor’s or Master’s in GIS, busi...   \n",
       "4  QUALIFICATIONS:RN license in the State of Texa...   \n",
       "\n",
       "                                            benefits  fraudulent  \n",
       "0                                                              0  \n",
       "1  What you will get from usThrough being part of...           0  \n",
       "2                                                              0  \n",
       "3  Our culture is anything but corporate—we have ...           0  \n",
       "4                              Full Benefits Offered           0  "
      ]
     },
     "execution_count": 4,
     "metadata": {},
     "output_type": "execute_result"
    }
   ],
   "source": [
    "text_df = df[[\"title\", \"company_profile\", \"description\", \"requirements\", \"benefits\",\"fraudulent\"]]\n",
    "text_df = text_df.fillna(' ')\n",
    "\n",
    "text_df.head()"
   ]
  },
  {
   "cell_type": "code",
   "execution_count": 5,
   "metadata": {},
   "outputs": [
    {
     "data": {
      "text/html": [
       "<div>\n",
       "<style scoped>\n",
       "    .dataframe tbody tr th:only-of-type {\n",
       "        vertical-align: middle;\n",
       "    }\n",
       "\n",
       "    .dataframe tbody tr th {\n",
       "        vertical-align: top;\n",
       "    }\n",
       "\n",
       "    .dataframe thead th {\n",
       "        text-align: right;\n",
       "    }\n",
       "</style>\n",
       "<table border=\"1\" class=\"dataframe\">\n",
       "  <thead>\n",
       "    <tr style=\"text-align: right;\">\n",
       "      <th></th>\n",
       "      <th>text</th>\n",
       "      <th>target</th>\n",
       "    </tr>\n",
       "  </thead>\n",
       "  <tbody>\n",
       "    <tr>\n",
       "      <th>0</th>\n",
       "      <td>marketing internwere food52 weve created groun...</td>\n",
       "      <td>0</td>\n",
       "    </tr>\n",
       "    <tr>\n",
       "      <th>1</th>\n",
       "      <td>customer service cloud video production90 seco...</td>\n",
       "      <td>0</td>\n",
       "    </tr>\n",
       "    <tr>\n",
       "      <th>2</th>\n",
       "      <td>commissioning machinery assistant cmavalor ser...</td>\n",
       "      <td>0</td>\n",
       "    </tr>\n",
       "    <tr>\n",
       "      <th>3</th>\n",
       "      <td>account executive washington dcour passion imp...</td>\n",
       "      <td>0</td>\n",
       "    </tr>\n",
       "    <tr>\n",
       "      <th>4</th>\n",
       "      <td>bill review managerspotsource solutions llc gl...</td>\n",
       "      <td>0</td>\n",
       "    </tr>\n",
       "  </tbody>\n",
       "</table>\n",
       "</div>"
      ],
      "text/plain": [
       "                                                text  target\n",
       "0  marketing internwere food52 weve created groun...       0\n",
       "1  customer service cloud video production90 seco...       0\n",
       "2  commissioning machinery assistant cmavalor ser...       0\n",
       "3  account executive washington dcour passion imp...       0\n",
       "4  bill review managerspotsource solutions llc gl...       0"
      ]
     },
     "execution_count": 5,
     "metadata": {},
     "output_type": "execute_result"
    }
   ],
   "source": [
    "data = pd.DataFrame(columns=['text','target'])\n",
    "data.text = text_df[text_df.columns[0:-1]].apply(lambda x: ','.join(x.dropna().astype(str)),axis=1)\n",
    "data.target = df['fraudulent']\n",
    "\n",
    "import string\n",
    "def remove_punct(text):\n",
    "  text_nopunct= \"\".join ([char for char in text if char not in string.punctuation])\n",
    "  return text_nopunct\n",
    "data.text=data.text.apply(lambda x:remove_punct(x))\n",
    "\n",
    "import re\n",
    "def tokenize(text):\n",
    "  tokens = re.split('\\W+', text)\n",
    "  return tokens\n",
    "data.text=data.text.apply(lambda x: tokenize(x.lower()))\n",
    "\n",
    "import nltk\n",
    "#nltk.download('stopwords')\n",
    "\n",
    "stopword = nltk.corpus.stopwords.words('english')\n",
    "def remove_stopwords(tokenized_list):\n",
    "  text = [word for word in tokenized_list if word not in stopword]\n",
    "  return text\n",
    "def join_text(text):\n",
    "    joined_text = ' '.join(text)\n",
    "    return joined_text\n",
    "\n",
    "data.text=data.text.apply(lambda x: remove_stopwords(x))\n",
    "data.text=data.text.apply(lambda x : join_text(x))\n",
    "data.head()"
   ]
  },
  {
   "cell_type": "markdown",
   "metadata": {},
   "source": [
    "### We have 2 issues here:\n",
    "1. The data is extremely skewed towards Real posts (Oversampling)\n",
    "2. The number of features generated using vectorizer would yield sparse matrices needing more than 40GB of memory (Large feature set)\n",
    "\n",
    "### To solve these:\n",
    "- We decrease the number of real posts we consider to 2000 using a random sample, this allows us to train the models without going to cloud or increasing available memory\n",
    "\n",
    "In addition, it was recommended we use an oversampling technique, so:\n",
    "- We will use **SMOTE** technique to handle the oversampling"
   ]
  },
  {
   "cell_type": "markdown",
   "metadata": {},
   "source": [
    "### Sampling"
   ]
  },
  {
   "cell_type": "code",
   "execution_count": 6,
   "metadata": {},
   "outputs": [
    {
     "data": {
      "text/plain": [
       "0    17014\n",
       "1      866\n",
       "Name: target, dtype: int64"
      ]
     },
     "execution_count": 6,
     "metadata": {},
     "output_type": "execute_result"
    }
   ],
   "source": [
    "data[\"target\"].value_counts()"
   ]
  },
  {
   "cell_type": "code",
   "execution_count": 7,
   "metadata": {},
   "outputs": [
    {
     "data": {
      "text/html": [
       "<div>\n",
       "<style scoped>\n",
       "    .dataframe tbody tr th:only-of-type {\n",
       "        vertical-align: middle;\n",
       "    }\n",
       "\n",
       "    .dataframe tbody tr th {\n",
       "        vertical-align: top;\n",
       "    }\n",
       "\n",
       "    .dataframe thead th {\n",
       "        text-align: right;\n",
       "    }\n",
       "</style>\n",
       "<table border=\"1\" class=\"dataframe\">\n",
       "  <thead>\n",
       "    <tr style=\"text-align: right;\">\n",
       "      <th></th>\n",
       "      <th>text</th>\n",
       "      <th>target</th>\n",
       "    </tr>\n",
       "  </thead>\n",
       "  <tbody>\n",
       "    <tr>\n",
       "      <th>98</th>\n",
       "      <td>ice technician staffing amp recruiting done ri...</td>\n",
       "      <td>1.0</td>\n",
       "    </tr>\n",
       "    <tr>\n",
       "      <th>144</th>\n",
       "      <td>forward cap group raised fund purchase homes s...</td>\n",
       "      <td>1.0</td>\n",
       "    </tr>\n",
       "    <tr>\n",
       "      <th>173</th>\n",
       "      <td>technician instrument controls edison internat...</td>\n",
       "      <td>1.0</td>\n",
       "    </tr>\n",
       "    <tr>\n",
       "      <th>180</th>\n",
       "      <td>sales executive sales executivesales executive...</td>\n",
       "      <td>1.0</td>\n",
       "    </tr>\n",
       "    <tr>\n",
       "      <th>215</th>\n",
       "      <td>ice technician mt poso staffing amp recruiting...</td>\n",
       "      <td>1.0</td>\n",
       "    </tr>\n",
       "    <tr>\n",
       "      <th>...</th>\n",
       "      <td>...</td>\n",
       "      <td>...</td>\n",
       "    </tr>\n",
       "    <tr>\n",
       "      <th>17827</th>\n",
       "      <td>student positions parttime fulltime student po...</td>\n",
       "      <td>1.0</td>\n",
       "    </tr>\n",
       "    <tr>\n",
       "      <th>17828</th>\n",
       "      <td>sales associate learn earn executive level inc...</td>\n",
       "      <td>1.0</td>\n",
       "    </tr>\n",
       "    <tr>\n",
       "      <th>17829</th>\n",
       "      <td>android developer infullmobile sp z oo mobile ...</td>\n",
       "      <td>1.0</td>\n",
       "    </tr>\n",
       "    <tr>\n",
       "      <th>17830</th>\n",
       "      <td>payroll clerk job descriptionwe seeking full t...</td>\n",
       "      <td>1.0</td>\n",
       "    </tr>\n",
       "    <tr>\n",
       "      <th>17831</th>\n",
       "      <td>furniture moveranthony warren marketing advert...</td>\n",
       "      <td>1.0</td>\n",
       "    </tr>\n",
       "  </tbody>\n",
       "</table>\n",
       "<p>866 rows × 2 columns</p>\n",
       "</div>"
      ],
      "text/plain": [
       "                                                    text  target\n",
       "98     ice technician staffing amp recruiting done ri...     1.0\n",
       "144    forward cap group raised fund purchase homes s...     1.0\n",
       "173    technician instrument controls edison internat...     1.0\n",
       "180    sales executive sales executivesales executive...     1.0\n",
       "215    ice technician mt poso staffing amp recruiting...     1.0\n",
       "...                                                  ...     ...\n",
       "17827  student positions parttime fulltime student po...     1.0\n",
       "17828  sales associate learn earn executive level inc...     1.0\n",
       "17829  android developer infullmobile sp z oo mobile ...     1.0\n",
       "17830  payroll clerk job descriptionwe seeking full t...     1.0\n",
       "17831  furniture moveranthony warren marketing advert...     1.0\n",
       "\n",
       "[866 rows x 2 columns]"
      ]
     },
     "execution_count": 7,
     "metadata": {},
     "output_type": "execute_result"
    }
   ],
   "source": [
    "data2 = data.where(data[\"target\"]==1).dropna()\n",
    "data2"
   ]
  },
  {
   "cell_type": "code",
   "execution_count": 8,
   "metadata": {},
   "outputs": [
    {
     "data": {
      "text/html": [
       "<div>\n",
       "<style scoped>\n",
       "    .dataframe tbody tr th:only-of-type {\n",
       "        vertical-align: middle;\n",
       "    }\n",
       "\n",
       "    .dataframe tbody tr th {\n",
       "        vertical-align: top;\n",
       "    }\n",
       "\n",
       "    .dataframe thead th {\n",
       "        text-align: right;\n",
       "    }\n",
       "</style>\n",
       "<table border=\"1\" class=\"dataframe\">\n",
       "  <thead>\n",
       "    <tr style=\"text-align: right;\">\n",
       "      <th></th>\n",
       "      <th>text</th>\n",
       "      <th>target</th>\n",
       "    </tr>\n",
       "  </thead>\n",
       "  <tbody>\n",
       "    <tr>\n",
       "      <th>13092</th>\n",
       "      <td>sr ms dynamics consultant ax gp eme internatio...</td>\n",
       "      <td>0.0</td>\n",
       "    </tr>\n",
       "    <tr>\n",
       "      <th>13436</th>\n",
       "      <td>software engineer androidhappy typing smart de...</td>\n",
       "      <td>0.0</td>\n",
       "    </tr>\n",
       "    <tr>\n",
       "      <th>17502</th>\n",
       "      <td>twic rapidgate laborerselite environmental gro...</td>\n",
       "      <td>0.0</td>\n",
       "    </tr>\n",
       "    <tr>\n",
       "      <th>10820</th>\n",
       "      <td>agentinbound sales positiondelivering superior...</td>\n",
       "      <td>0.0</td>\n",
       "    </tr>\n",
       "    <tr>\n",
       "      <th>2067</th>\n",
       "      <td>internship media productionthis initiative led...</td>\n",
       "      <td>0.0</td>\n",
       "    </tr>\n",
       "    <tr>\n",
       "      <th>...</th>\n",
       "      <td>...</td>\n",
       "      <td>...</td>\n",
       "    </tr>\n",
       "    <tr>\n",
       "      <th>4587</th>\n",
       "      <td>project executive research analystwine intelli...</td>\n",
       "      <td>0.0</td>\n",
       "    </tr>\n",
       "    <tr>\n",
       "      <th>7450</th>\n",
       "      <td>bar manager hotel st regis doha qatarclarusape...</td>\n",
       "      <td>0.0</td>\n",
       "    </tr>\n",
       "    <tr>\n",
       "      <th>5917</th>\n",
       "      <td>ihf codirector looking longterm volunteering o...</td>\n",
       "      <td>0.0</td>\n",
       "    </tr>\n",
       "    <tr>\n",
       "      <th>14348</th>\n",
       "      <td>channel account managervend looking awesome ne...</td>\n",
       "      <td>0.0</td>\n",
       "    </tr>\n",
       "    <tr>\n",
       "      <th>7505</th>\n",
       "      <td>cw5 6py manufacturing apprenticeship nas 1618 ...</td>\n",
       "      <td>0.0</td>\n",
       "    </tr>\n",
       "  </tbody>\n",
       "</table>\n",
       "<p>1000 rows × 2 columns</p>\n",
       "</div>"
      ],
      "text/plain": [
       "                                                    text  target\n",
       "13092  sr ms dynamics consultant ax gp eme internatio...     0.0\n",
       "13436  software engineer androidhappy typing smart de...     0.0\n",
       "17502  twic rapidgate laborerselite environmental gro...     0.0\n",
       "10820  agentinbound sales positiondelivering superior...     0.0\n",
       "2067   internship media productionthis initiative led...     0.0\n",
       "...                                                  ...     ...\n",
       "4587   project executive research analystwine intelli...     0.0\n",
       "7450   bar manager hotel st regis doha qatarclarusape...     0.0\n",
       "5917   ihf codirector looking longterm volunteering o...     0.0\n",
       "14348  channel account managervend looking awesome ne...     0.0\n",
       "7505   cw5 6py manufacturing apprenticeship nas 1618 ...     0.0\n",
       "\n",
       "[1000 rows x 2 columns]"
      ]
     },
     "execution_count": 8,
     "metadata": {},
     "output_type": "execute_result"
    }
   ],
   "source": [
    "random_real = data.where(data[\"target\"]==0).dropna().sample(n=1000, random_state = 0)\n",
    "random_real"
   ]
  },
  {
   "cell_type": "code",
   "execution_count": 9,
   "metadata": {},
   "outputs": [
    {
     "name": "stdout",
     "output_type": "stream",
     "text": [
      "(1866, 2)\n"
     ]
    },
    {
     "data": {
      "text/html": [
       "<div>\n",
       "<style scoped>\n",
       "    .dataframe tbody tr th:only-of-type {\n",
       "        vertical-align: middle;\n",
       "    }\n",
       "\n",
       "    .dataframe tbody tr th {\n",
       "        vertical-align: top;\n",
       "    }\n",
       "\n",
       "    .dataframe thead th {\n",
       "        text-align: right;\n",
       "    }\n",
       "</style>\n",
       "<table border=\"1\" class=\"dataframe\">\n",
       "  <thead>\n",
       "    <tr style=\"text-align: right;\">\n",
       "      <th></th>\n",
       "      <th>text</th>\n",
       "      <th>target</th>\n",
       "    </tr>\n",
       "  </thead>\n",
       "  <tbody>\n",
       "    <tr>\n",
       "      <th>5943</th>\n",
       "      <td>admin assistant tx job descriptionadministrati...</td>\n",
       "      <td>1.0</td>\n",
       "    </tr>\n",
       "    <tr>\n",
       "      <th>14212</th>\n",
       "      <td>sales operations manager boston preferred remo...</td>\n",
       "      <td>0.0</td>\n",
       "    </tr>\n",
       "    <tr>\n",
       "      <th>5241</th>\n",
       "      <td>escrow closer denver escrow closer works prima...</td>\n",
       "      <td>0.0</td>\n",
       "    </tr>\n",
       "    <tr>\n",
       "      <th>8252</th>\n",
       "      <td>civil engineer ii choose aecom imagine working...</td>\n",
       "      <td>1.0</td>\n",
       "    </tr>\n",
       "    <tr>\n",
       "      <th>17157</th>\n",
       "      <td>accountant conversocial social customer servic...</td>\n",
       "      <td>0.0</td>\n",
       "    </tr>\n",
       "  </tbody>\n",
       "</table>\n",
       "</div>"
      ],
      "text/plain": [
       "                                                    text  target\n",
       "5943   admin assistant tx job descriptionadministrati...     1.0\n",
       "14212  sales operations manager boston preferred remo...     0.0\n",
       "5241   escrow closer denver escrow closer works prima...     0.0\n",
       "8252   civil engineer ii choose aecom imagine working...     1.0\n",
       "17157  accountant conversocial social customer servic...     0.0"
      ]
     },
     "execution_count": 9,
     "metadata": {},
     "output_type": "execute_result"
    }
   ],
   "source": [
    "data2 = data2.append(random_real)\n",
    "print(data2.shape)\n",
    "data2.sample(n=5).head()"
   ]
  },
  {
   "cell_type": "markdown",
   "metadata": {},
   "source": [
    "## Test train split and vectorization\n",
    "\n",
    "Because of the features, the memory requirement for this dataset is very high, thus in order to prototype, we'll limit the set to a sample of top 3000"
   ]
  },
  {
   "cell_type": "markdown",
   "metadata": {},
   "source": [
    "### Using Tfidf Vectorizer in addition to SMOTE"
   ]
  },
  {
   "cell_type": "code",
   "execution_count": 10,
   "metadata": {},
   "outputs": [],
   "source": [
    "from sklearn.feature_extraction.text import TfidfVectorizer\n",
    "vec = TfidfVectorizer()\n",
    "data_sample = data2#.sample(n=2000, random_state = 0)\n",
    "data_x = data_sample.text\n",
    "data_x = vec.fit_transform(data_x)\n",
    "oversample = SMOTE(random_state = 0)\n",
    "X, y = oversample.fit_resample(data_x, data_sample.target)\n",
    "X_text_arr = vec.inverse_transform(X)"
   ]
  },
  {
   "cell_type": "code",
   "execution_count": 11,
   "metadata": {},
   "outputs": [],
   "source": [
    "X_text = []\n",
    "for i in X_text_arr:\n",
    "    X_text.append(' '.join(i))"
   ]
  },
  {
   "cell_type": "code",
   "execution_count": 12,
   "metadata": {},
   "outputs": [],
   "source": [
    "from sklearn import linear_model, model_selection\n",
    "from sklearn.feature_extraction.text import TfidfVectorizer\n",
    "\n",
    "X_train, X_test, y_train, y_test = model_selection.train_test_split(X, y, test_size=0.25, random_state=0)\n",
    "\n",
    "# sentences_train, sentences_test, y_train, y_test = model_selection.train_test_split(stratified_random_sample.text, stratified_random_sample.target, test_size=0.25, random_state=0)\n",
    "# sentences_train, sentences_test, y_train, y_test = model_selection.train_test_split(data2.text, data2.target, test_size=0.25, random_state=0)\n",
    "\n",
    "# #print(sentences_train)\n",
    "# vectorizer = TfidfVectorizer()\n",
    "# # vectorizer.fit_transform(stratified_random_sample.text)\n",
    "# vectorizer.fit_transform(X)\n",
    "# X_train = vectorizer.transform(sentences_train)\n",
    "# X_test  = vectorizer.transform(sentences_test)\n",
    "X_train_arr = X_train.toarray()\n",
    "X_test_arr = X_test.toarray()"
   ]
  },
  {
   "cell_type": "markdown",
   "metadata": {},
   "source": [
    "### Training on Random Forest"
   ]
  },
  {
   "cell_type": "code",
   "execution_count": 13,
   "metadata": {},
   "outputs": [],
   "source": [
    "rf = RandomForestClassifier(random_state=0)\n",
    "rf.fit(X_train_arr, y_train)\n",
    "rfscore = rf.score(X_test_arr, y_test)"
   ]
  },
  {
   "cell_type": "markdown",
   "metadata": {},
   "source": [
    "### Training on Logistic Regression"
   ]
  },
  {
   "cell_type": "code",
   "execution_count": 14,
   "metadata": {},
   "outputs": [],
   "source": [
    "logRes = LogisticRegression(random_state=0)\n",
    "logRes.fit(X_train, y_train)\n",
    "logResscore = logRes.score(X_test, y_test)"
   ]
  },
  {
   "cell_type": "markdown",
   "metadata": {},
   "source": [
    "### Training on Stochastic Gradient Descent under RBF SVM"
   ]
  },
  {
   "cell_type": "code",
   "execution_count": 15,
   "metadata": {},
   "outputs": [
    {
     "name": "stderr",
     "output_type": "stream",
     "text": [
      "C:\\ProgramData\\Anaconda3\\lib\\site-packages\\sklearn\\linear_model\\_stochastic_gradient.py:570: ConvergenceWarning: Maximum number of iteration reached before convergence. Consider increasing max_iter to improve the fit.\n",
      "  warnings.warn(\"Maximum number of iteration reached before \"\n"
     ]
    }
   ],
   "source": [
    "rbf_feature = RBFSampler(gamma=1, random_state=1)\n",
    "X_features = rbf_feature.fit_transform(X_train)\n",
    "sgd_clf = SGDClassifier(max_iter=5)\n",
    "sgd_clf.fit(X_features, y_train)\n",
    "X_test_features = rbf_feature.fit_transform(X_test)\n",
    "sgd_clfscore=sgd_clf.score(X_test_features,y_test)"
   ]
  },
  {
   "cell_type": "markdown",
   "metadata": {},
   "source": [
    "## Prototype Analysis"
   ]
  },
  {
   "cell_type": "markdown",
   "metadata": {},
   "source": [
    "Lets start with reviewing the accuracy"
   ]
  },
  {
   "cell_type": "code",
   "execution_count": 16,
   "metadata": {
    "scrolled": true
   },
   "outputs": [
    {
     "name": "stdout",
     "output_type": "stream",
     "text": [
      "Logistic Regression Accuracy: 89.40%\n",
      "Stochastic Gradient Descent: 65.20%\n",
      "Random Forest Accuracy: 90.20%\n"
     ]
    }
   ],
   "source": [
    "print(\"Logistic Regression Accuracy:\", format(logResscore,'.2%'))\n",
    "print(\"Stochastic Gradient Descent:\", format(sgd_clfscore,'.2%'))\n",
    "print(\"Random Forest Accuracy:\", format(rfscore,'.2%'))"
   ]
  },
  {
   "cell_type": "markdown",
   "metadata": {},
   "source": [
    "It appears random forest is the best one in this sample, trailed by SVM and eventually Logistic regression"
   ]
  },
  {
   "cell_type": "markdown",
   "metadata": {},
   "source": [
    "Lets take a look at the correlation matrices for each one"
   ]
  },
  {
   "cell_type": "code",
   "execution_count": 17,
   "metadata": {
    "scrolled": false
   },
   "outputs": [
    {
     "data": {
      "text/plain": [
       "<sklearn.metrics._plot.confusion_matrix.ConfusionMatrixDisplay at 0x26f2a4b6970>"
      ]
     },
     "execution_count": 17,
     "metadata": {},
     "output_type": "execute_result"
    },
    {
     "data": {
      "image/png": "[encoded data removed]",
      "text/plain": [
       "<Figure size 432x288 with 2 Axes>"
      ]
     },
     "metadata": {
      "needs_background": "light"
     },
     "output_type": "display_data"
    },
    {
     "data": {
      "image/png": "[encoded data removed]",
      "text/plain": [
       "<Figure size 432x288 with 2 Axes>"
      ]
     },
     "metadata": {
      "needs_background": "light"
     },
     "output_type": "display_data"
    },
    {
     "data": {
      "image/png": "[encoded data removed]",
      "text/plain": [
       "<Figure size 432x288 with 2 Axes>"
      ]
     },
     "metadata": {
      "needs_background": "light"
     },
     "output_type": "display_data"
    }
   ],
   "source": [
    "from sklearn.metrics import confusion_matrix \n",
    "from sklearn.metrics import plot_confusion_matrix \n",
    "\n",
    "plot_confusion_matrix(logRes, X_test, y_test, cmap=plt.cm.Greys)\n",
    "plot_confusion_matrix(sgd_clf, X_test_features, y_test, cmap=plt.cm.Blues)\n",
    "plot_confusion_matrix(rf, X_test, y_test, cmap=plt.cm.Oranges)"
   ]
  },
  {
   "cell_type": "markdown",
   "metadata": {},
   "source": [
    "We can see the matrices in order\n",
    "- Logistic Regression\n",
    "- SVM\n",
    "- Random Forest"
   ]
  },
  {
   "cell_type": "markdown",
   "metadata": {},
   "source": [
    "We can now use the classification report function to get f1 score, precision and recall values"
   ]
  },
  {
   "cell_type": "code",
   "execution_count": 18,
   "metadata": {},
   "outputs": [
    {
     "name": "stdout",
     "output_type": "stream",
     "text": [
      "Logistic Regression\n",
      "              precision    recall  f1-score   support\n",
      "\n",
      "         0.0       0.87      0.93      0.90       250\n",
      "         1.0       0.92      0.86      0.89       250\n",
      "\n",
      "    accuracy                           0.89       500\n",
      "   macro avg       0.90      0.89      0.89       500\n",
      "weighted avg       0.90      0.89      0.89       500\n",
      "\n",
      "--------------------\n",
      "Stochastic Gradient Descent\n",
      "              precision    recall  f1-score   support\n",
      "\n",
      "         0.0       0.63      0.72      0.67       250\n",
      "         1.0       0.68      0.58      0.63       250\n",
      "\n",
      "    accuracy                           0.65       500\n",
      "   macro avg       0.65      0.65      0.65       500\n",
      "weighted avg       0.65      0.65      0.65       500\n",
      "\n",
      "--------------------\n",
      "Random Forest\n",
      "              precision    recall  f1-score   support\n",
      "\n",
      "         0.0       0.89      0.92      0.90       250\n",
      "         1.0       0.91      0.89      0.90       250\n",
      "\n",
      "    accuracy                           0.90       500\n",
      "   macro avg       0.90      0.90      0.90       500\n",
      "weighted avg       0.90      0.90      0.90       500\n",
      "\n",
      "--------------------\n"
     ]
    }
   ],
   "source": [
    "from sklearn.metrics import classification_report\n",
    "\n",
    "lr_pred = logRes.predict(X_test)\n",
    "sgd_pred = sgd_clf.predict(X_test_features)\n",
    "rf_pred = rf.predict(X_test_arr)\n",
    "# svc_pred = svc_classifier.predict(X_test_arr)\n",
    "print(\"Logistic Regression\")\n",
    "print(classification_report(y_test, lr_pred))\n",
    "print(\"--------------------\")\n",
    "print(\"Stochastic Gradient Descent\")\n",
    "print(classification_report(y_test, sgd_pred))\n",
    "print(\"--------------------\")\n",
    "print(\"Random Forest\")\n",
    "print(classification_report(y_test, rf_pred))\n",
    "print(\"--------------------\")"
   ]
  },
  {
   "cell_type": "markdown",
   "metadata": {},
   "source": [
    "We want to minimize the **False Positives**, so it appears **Random Forest** is our best candidate. We can see a **f1** score of **.90** here, let's do Cross Validation and Hyper Param Tuning and see if this goes up."
   ]
  },
  {
   "cell_type": "markdown",
   "metadata": {},
   "source": [
    "## Cross Validation and Hyper-param tuning\n",
    "\n",
    "To verify we have the best possible results, we can perform some hyper param tuning and see if it can assist us. We will use GridSearchCV and RepeatedKFold methods to achieve the 10-fold CV. We can use the scores to get the ideal value of a key parameter by minimizing Misclassification Error (or improving Cross Validation score since they are inversely proportional)"
   ]
  },
  {
   "cell_type": "code",
   "execution_count": 19,
   "metadata": {},
   "outputs": [
    {
     "name": "stdout",
     "output_type": "stream",
     "text": [
      "Best Score: 0.9172168658451323\n",
      "Best Hyperparameters: {'max_depth': 60, 'max_features': 'auto', 'n_estimators': 250}\n"
     ]
    }
   ],
   "source": [
    "cv = RepeatedKFold(n_splits=10, n_repeats=3, random_state=0)\n",
    "# define search space\n",
    "param_grid = { \n",
    "    'n_estimators': [10, 50, 100, 150, 200, 250],\n",
    "    'max_features': ['auto', 'log2'],\n",
    "    'max_depth' : [10,25,45,50,55,60],\n",
    "}\n",
    "# define search\n",
    "search = GridSearchCV(RandomForestClassifier(random_state=0), param_grid=param_grid, scoring='f1', n_jobs=-1, cv=cv)\n",
    "# execute search\n",
    "result = search.fit(X_train, y_train)\n",
    "# summarize result\n",
    "print('Best Score: %s' % result.best_score_)\n",
    "print('Best Hyperparameters: %s' % result.best_params_)"
   ]
  },
  {
   "cell_type": "markdown",
   "metadata": {},
   "source": [
    "## Training optimized model with above hyperparams"
   ]
  },
  {
   "cell_type": "code",
   "execution_count": 20,
   "metadata": {},
   "outputs": [
    {
     "data": {
      "text/plain": [
       "RandomForestClassifier(max_depth=60, n_estimators=250, random_state=0)"
      ]
     },
     "execution_count": 20,
     "metadata": {},
     "output_type": "execute_result"
    }
   ],
   "source": [
    "rf_optimized = RandomForestClassifier(random_state=0, max_depth=60, max_features='auto',n_estimators=250)\n",
    "rf_optimized.fit(X_train_arr, y_train)"
   ]
  },
  {
   "cell_type": "code",
   "execution_count": 21,
   "metadata": {
    "scrolled": false
   },
   "outputs": [
    {
     "name": "stdout",
     "output_type": "stream",
     "text": [
      "              precision    recall  f1-score   support\n",
      "\n",
      "         0.0       0.91      0.93      0.92       250\n",
      "         1.0       0.93      0.90      0.91       250\n",
      "\n",
      "    accuracy                           0.92       500\n",
      "   macro avg       0.92      0.92      0.92       500\n",
      "weighted avg       0.92      0.92      0.92       500\n",
      "\n"
     ]
    },
    {
     "data": {
      "text/plain": [
       "<sklearn.metrics._plot.confusion_matrix.ConfusionMatrixDisplay at 0x26f03590460>"
      ]
     },
     "execution_count": 21,
     "metadata": {},
     "output_type": "execute_result"
    },
    {
     "data": {
      "image/png": "[encoded data removed]",
      "text/plain": [
       "<Figure size 432x288 with 2 Axes>"
      ]
     },
     "metadata": {
      "needs_background": "light"
     },
     "output_type": "display_data"
    }
   ],
   "source": [
    "rf_optimized_pred = rf_optimized.predict(X_test_arr)\n",
    "print(classification_report(y_test, rf_optimized_pred))\n",
    "plot_confusion_matrix(rf_optimized, X_test, y_test, cmap=plt.cm.Oranges)"
   ]
  },
  {
   "cell_type": "markdown",
   "metadata": {},
   "source": [
    "Looks like we were able to increase the **f1** score to **.92**, that's a good improvement!\n",
    "\n",
    "### Pipelining"
   ]
  },
  {
   "cell_type": "code",
   "execution_count": 22,
   "metadata": {},
   "outputs": [
    {
     "data": {
      "text/plain": [
       "Pipeline(steps=[('tfidf',\n",
       "                 TfidfVectorizer(stop_words=frozenset({'a', 'about', 'above',\n",
       "                                                       'across', 'after',\n",
       "                                                       'afterwards', 'again',\n",
       "                                                       'against', 'all',\n",
       "                                                       'almost', 'alone',\n",
       "                                                       'along', 'already',\n",
       "                                                       'also', 'although',\n",
       "                                                       'always', 'am', 'among',\n",
       "                                                       'amongst', 'amoungst',\n",
       "                                                       'amount', 'an', 'and',\n",
       "                                                       'another', 'any',\n",
       "                                                       'anyhow', 'anyone',\n",
       "                                                       'anything', 'anyway',\n",
       "                                                       'anywhere', ...}))),\n",
       "                ('model',\n",
       "                 RandomForestClassifier(max_depth=60, n_estimators=250,\n",
       "                                        random_state=0))])"
      ]
     },
     "execution_count": 22,
     "metadata": {},
     "output_type": "execute_result"
    }
   ],
   "source": [
    "from sklearn.pipeline import Pipeline\n",
    "from sklearn.feature_extraction.text import ENGLISH_STOP_WORDS\n",
    "# define the stages of the pipeline\n",
    "pipeline = Pipeline(steps= [('tfidf', TfidfVectorizer(lowercase=True,\n",
    "                                                      stop_words= ENGLISH_STOP_WORDS)),\n",
    "                            ('model', RandomForestClassifier(random_state=0, \n",
    "                                                             max_depth=60, \n",
    "                                                             max_features='auto',\n",
    "                                                             n_estimators=250))])\n",
    "\n",
    "# fit the pipeline model with the training data                            \n",
    "#pipeline.fit(data2.text, data2.target)\n",
    "pipeline.fit(X_text, y)"
   ]
  },
  {
   "cell_type": "markdown",
   "metadata": {},
   "source": [
    "## Manual Validation"
   ]
  },
  {
   "cell_type": "code",
   "execution_count": 24,
   "metadata": {
    "scrolled": false
   },
   "outputs": [
    {
     "data": {
      "text/plain": [
       "array([0., 1., 0.])"
      ]
     },
     "execution_count": 24,
     "metadata": {},
     "output_type": "execute_result"
    }
   ],
   "source": [
    "real_post = '''The Business Analyst is responsible for working with business stakeholders to elicit, analyze, specify and validate IT solutions to meet business needs. This requires the ability to independently evaluate and transition to use of unfamiliar business and system domains. Must be able to bring together a diverse stakeholder group, drive consensus and create a shared understanding while maintaining alignment with business and IT strategies.\n",
    "\n",
    "Reviews existing legacy applications and validates existing documentation of business requirements, processes and system specifications to develop an understanding of the existing functionality.\n",
    "Maintains an up-to-date library of all business processes and IT/security/access system documentation including contacts, terms and key dates for renewals, expiries, etc.\n",
    "Analyzes existing workflows and perform best practice benchmark gap analysis to identify opportunities to streamline processes, eliminate redundancy and ensure that processes are efficient, sustainable, and repeatable.\n",
    "Meets with business leadership (SME, product manager, process owner) to understand new business requirements; creates and validates technical needs documentation.\n",
    "Develops a clear definition and acceptance criteria for product features to ensure the business requirements will be addressed.\n",
    "Participates in the implementation of new systems and applications; works closely with the business to device comprehensive test plans for different applications, business processes, and technical solutions.\n",
    "Trains and supports users in conducting UAT and Pilot releases, creates test cases for all phases of testing, gathers feedback, tracks and reports defects, and follows up to ensure resolution of outstanding issues.\n",
    "Provides and maintains required IT system training documentation to support all teams.\n",
    "Responsible for fulfilling routine service requests (phone, email, tickets) and managing assigned incidents (including resolving the more routine incidents).\n",
    "Supports the business in data extraction and manipulation from multiple systems to meet reporting needs.\n",
    "Liaises with technology partners to resolve deficiencies, provide status updates and process information as needed.\n",
    "Assesses risks associated with change; reviews change requests and analyzes the effect of proposed changes over all aspects of the business and communicates to all stakeholders.\n",
    "Other duties as may be assigned to contribute to Dymon’s operational and financial success.\n",
    "We are looking for a candidate with:\n",
    "\n",
    "University Degree (preferably in computer science, Engineering or Information Technology)\n",
    "3 - 5 years of experience as a Business Analyst\n",
    "Experience working with NetSuite will be considered an asset\n",
    "Excellent writing skills and effective communication\n",
    "Possesses leading edge technical knowledge\n",
    "Knowledge of Web Development and Software Development Life Cycle\n",
    "Knowledge of SQL Server and BI tools\n",
    "Strong business acumen; excellent understanding of business context and mode of operations\n",
    "Ability to identify, formalize, and problem solve business needs\n",
    "Exceptional interpersonal skills in areas such as teamwork, facilitation and negotiation\n",
    "Understands principles of iterative development, and able to document business requirements\n",
    "Expert in producing through and complete test scripts\n",
    "Strong skills in organization, time management and collaboration\n",
    "Able to work quickly and under tight delivery deadlines with focus on details\n",
    "Interface with key customers from all functional areas\n",
    "Proven and recent experience of implementing solutions from requirements gathering and process design to functional production deployment\n",
    "Demonstrated ability to produce high quality deliverables\n",
    "A good team player, able to maintain positive and effective work relationships with all levels of personnel within the organization\n",
    "Your application must clearly demonstrate how you meet the requirements, as well as your commitment to a Guest-first approach. We thank all those who apply and apologize that we can only contact candidates who are selected for further consideration.\n",
    "\n",
    "If you have a disability which requires an accommodation during any stage of our recruitment process, please let us know how we can assist you.\n",
    "\n",
    "We have Great Perks * Health & Dental Plan * Paid Sick Days * Employee Assistance Program * Employee Educational Investments * Community Involvement Activities * Employee Recognition Awards * Training Opportunities * Team Events & Celebrations and more!\n",
    "\n",
    "We welcome your interest in joining the DYMON Team!'''\n",
    "\n",
    "scam_post = '''This is a real post, give us your social security and we give you job, promise really really'''\n",
    "real_post_2 = '''Future You wants to know – what is life at UPS really like? You’ll see that it’s about opportunity, teamwork, a supportive culture and benefits that help you become everything you’re envisioning right now.Explore the many ways UPS can enrich life for Future You. And if you’d like benefit information, find it with the specific job you’re looking for.\n",
    "\n",
    "Job Description:\n",
    "\n",
    "\n",
    "POSITION SUMMARY\n",
    "\n",
    "The UPS walker performs the task of delivering and picking up UPS packages. The responsibilities consist of the following:\n",
    "\n",
    "\n",
    "KEY ACCOUNTABILITIES\n",
    "\n",
    "\n",
    "- Delivering and picking up UPS packages efficiently and effectively\n",
    "- Learning and properly executing UPS safe driving methods to ensure passenger safety\n",
    "- Complying with UPS appearance guidelines\n",
    "\n",
    "\n",
    "EDUCATION/WORK EXPERIENCE\n",
    "\n",
    "\n",
    "- Ability to lift up to 70 lbs\n",
    "- Ability to work in a fast paced environment\n",
    "- Bilingualism\n",
    "- Available to work daily Monday through Friday\n",
    "\n",
    "- lexible to work any 4 hour shift between the hours of 7:00 and 22:00\n",
    "- Able to work under minimal supervision\n",
    "- Strong customer service skills\n",
    "\n",
    "UPS Canada is a diverse and equal opportunity employer. Please advise our HR representatives if workplace accommodation is needed. Thank you for your interest in UPS Canada.'''\n",
    "\n",
    "\n",
    "pipeline.predict([real_post, scam_post, real_post_2])"
   ]
  },
  {
   "cell_type": "markdown",
   "metadata": {},
   "source": [
    "### Saving Model"
   ]
  },
  {
   "cell_type": "code",
   "execution_count": 25,
   "metadata": {},
   "outputs": [
    {
     "data": {
      "text/plain": [
       "['scam_finder.joblib']"
      ]
     },
     "execution_count": 25,
     "metadata": {},
     "output_type": "execute_result"
    }
   ],
   "source": [
    "# import joblib\n",
    "from joblib import dump\n",
    "\n",
    "# dump the pipeline model\n",
    "dump(pipeline, filename=\"scam_finder.joblib\")"
   ]
  },
  {
   "cell_type": "markdown",
   "metadata": {},
   "source": [
    "### Loading model back and trying the results"
   ]
  },
  {
   "cell_type": "code",
   "execution_count": 26,
   "metadata": {},
   "outputs": [
    {
     "name": "stdout",
     "output_type": "stream",
     "text": [
      "[0. 1. 0.]\n",
      "[[0.5113089  0.4886911 ]\n",
      " [0.42168063 0.57831937]\n",
      " [0.54656472 0.45343528]]\n"
     ]
    }
   ],
   "source": [
    "# import joblib\n",
    "from joblib import load\n",
    "\n",
    "text = [real_post, scam_post, real_post_2]\n",
    "\n",
    "# load the saved pipleine model\n",
    "pipeline = load(\"scam_finder.joblib\")\n",
    "\n",
    "print(pipeline.predict(text))\n",
    "print(pipeline.predict_proba(text))"
   ]
  },
  {
   "cell_type": "code",
   "execution_count": 27,
   "metadata": {},
   "outputs": [],
   "source": [
    "a = pipeline.predict_proba([real_post])"
   ]
  },
  {
   "cell_type": "code",
   "execution_count": 28,
   "metadata": {},
   "outputs": [
    {
     "data": {
      "text/plain": [
       "0.511308902436951"
      ]
     },
     "execution_count": 28,
     "metadata": {},
     "output_type": "execute_result"
    }
   ],
   "source": [
    "a[0][0]"
   ]
  },
  {
   "cell_type": "code",
   "execution_count": null,
   "metadata": {},
   "outputs": [],
   "source": []
  }
 ],
 "metadata": {
  "kernelspec": {
   "display_name": "Python 3",
   "language": "python",
   "name": "python3"
  },
  "language_info": {
   "codemirror_mode": {
    "name": "ipython",
    "version": 3
   },
   "file_extension": ".py",
   "mimetype": "text/x-python",
   "name": "python",
   "nbconvert_exporter": "python",
   "pygments_lexer": "ipython3",
   "version": "3.8.3"
  }
 },
 "nbformat": 4,
 "nbformat_minor": 4
}
